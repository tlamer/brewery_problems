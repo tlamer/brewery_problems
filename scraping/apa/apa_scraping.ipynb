{
 "metadata": {
  "name": "apa_scraping"
 },
 "nbformat": 3,
 "nbformat_minor": 0,
 "worksheets": [
  {
   "cells": [
    {
     "cell_type": "code",
     "collapsed": false,
     "input": [
      "import re, csv\n",
      "import requests\n",
      "from bs4 import BeautifulSoup"
     ],
     "language": "python",
     "metadata": {},
     "outputs": []
    },
    {
     "cell_type": "code",
     "collapsed": false,
     "input": [
      "BASE = 'http://www.apa.sk/index.php?navID=206'"
     ],
     "language": "python",
     "metadata": {},
     "outputs": []
    },
    {
     "cell_type": "code",
     "collapsed": false,
     "input": [
      "def scrape_years(url):\n",
      "    r = requests.get(url)\n",
      "    soup = BeautifulSoup(r.text)\n",
      "    \n",
      "    years = soup.find('select', attrs = {'name':'rok'}).find_all('option', attrs = {'value':re.compile('[0-9]{4}')})\n",
      "    \n",
      "    return list(year.text for year in years)\n",
      "    "
     ],
     "language": "python",
     "metadata": {},
     "outputs": []
    },
    {
     "cell_type": "code",
     "collapsed": false,
     "input": [
      "def scrape_pages(year):\n",
      "    r = requests.get(BASE + '&rok=' + str(year))\n",
      "    soup = BeautifulSoup(r.text)\n",
      "    \n",
      "    pages = soup.find('div', attrs= {'id':'strankovanie'}).find(text = re.compile('str\u00e1nky'))\n",
      "    \n",
      "    reg = re.search('(?<=str\u00e1nky \\([0-9]/)[0-9]+', pages)\n",
      "    return int(reg.group(0))"
     ],
     "language": "python",
     "metadata": {},
     "outputs": []
    },
    {
     "cell_type": "code",
     "collapsed": false,
     "input": [
      "def scrape_data(year, writer):\n",
      "    pages = scrape_pages(year)\n",
      "    for page in range(pages):\n",
      "        print(str(year) + ': ' + str(page + 1))\n",
      "        r = requests.get(BASE + '&rok=' + str(year) + '&offset=' + str(page))\n",
      "        soup= BeautifulSoup(r.text)\n",
      "    \n",
      "        table = soup.find('table').find_all('tr')[1:]\n",
      "        \n",
      "        for row in table:\n",
      "            entry = row.find_all('td')\n",
      "            entry = list(x.text for x in entry)\n",
      "            entry.insert(0, year)\n",
      "            writer.writerow(entry)\n",
      "        "
     ],
     "language": "python",
     "metadata": {},
     "outputs": []
    },
    {
     "cell_type": "code",
     "collapsed": false,
     "input": [
      "fd = open('apa.csv', 'w', newline='')\n",
      "wrt = csv.writer(fd)"
     ],
     "language": "python",
     "metadata": {},
     "outputs": []
    },
    {
     "cell_type": "code",
     "collapsed": false,
     "input": [
      "for year in scrape_years(BASE):\n",
      "    scrape_data(year, wrt)"
     ],
     "language": "python",
     "metadata": {},
     "outputs": []
    },
    {
     "cell_type": "code",
     "collapsed": false,
     "input": [
      "fd.close()"
     ],
     "language": "python",
     "metadata": {},
     "outputs": []
    }
   ],
   "metadata": {}
  }
 ]
}