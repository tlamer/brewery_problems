{
 "metadata": {
  "name": "train_scraping"
 },
 "nbformat": 3,
 "nbformat_minor": 0,
 "worksheets": [
  {
   "cells": [
    {
     "cell_type": "code",
     "collapsed": false,
     "input": [
      "import re, csv\n",
      "import requests\n",
      "from bs4 import BeautifulSoup"
     ],
     "language": "python",
     "metadata": {},
     "outputs": [],
     "prompt_number": 1
    },
    {
     "cell_type": "code",
     "collapsed": false,
     "input": [
      "r = requests.get('http://www.poloha.vlaku.info/')\n",
      "soup = BeautifulSoup(r.text)"
     ],
     "language": "python",
     "metadata": {},
     "outputs": [],
     "prompt_number": 2
    },
    {
     "cell_type": "code",
     "collapsed": false,
     "input": [
      "trains = []"
     ],
     "language": "python",
     "metadata": {},
     "outputs": [],
     "prompt_number": 3
    },
    {
     "cell_type": "code",
     "collapsed": false,
     "input": [
      "for tag in soup.find_all(text=re.compile('me\u0161k\u00e1')):\n",
      "    train = [x for x in tag.parent.parent.strings]\n",
      "    if train[2] == '\\xa0':\n",
      "        trains.append((train[1],int(train[7])))\n",
      "    else:\n",
      "        trains.append((train[1] + ' - ' + train[2],int(train[7])))"
     ],
     "language": "python",
     "metadata": {},
     "outputs": [],
     "prompt_number": 4
    },
    {
     "cell_type": "code",
     "collapsed": false,
     "input": [
      "trains.sort(key=lambda x: x[1])"
     ],
     "language": "python",
     "metadata": {},
     "outputs": [],
     "prompt_number": 5
    },
    {
     "cell_type": "code",
     "collapsed": false,
     "input": [
      "# uloha #1\n",
      "with open('1.csv','w',newline='') as f:\n",
      "    writer = csv.writer(f)\n",
      "    for train in trains:\n",
      "        if (train[1] == 10):\n",
      "            writer.writerow(train)\n",
      "            "
     ],
     "language": "python",
     "metadata": {},
     "outputs": [],
     "prompt_number": 6
    },
    {
     "cell_type": "code",
     "collapsed": false,
     "input": [
      "# uloha #2\n",
      "with open('2.csv','w',newline='') as f:\n",
      "    writer = csv.writer(f)\n",
      "    writer.writerows(trains[-10:])"
     ],
     "language": "python",
     "metadata": {},
     "outputs": [],
     "prompt_number": 7
    },
    {
     "cell_type": "code",
     "collapsed": false,
     "input": [
      "print(trains)"
     ],
     "language": "python",
     "metadata": {},
     "outputs": [
      {
       "output_type": "stream",
       "stream": "stdout",
       "text": [
        "[('EC 72 - SMETANA', 1), ('Ex 129 - HRAD\u010cANY', 1), ('EC 175 - JAN JESENIUS', 1), ('R 814 - DOMICA', 1), ('R 835 - URP\u00cdN', 1), ('REx 909 - LABOREC', 1), ('REx 912 - SLANEC', 1), ('LE 1363 - \u0160V\u00ddCARSK\u00c1 KVALITA', 1), ('Os 2059', 1), ('Os 2310', 1), ('Os 4820', 1), ('Os 5113', 1), ('Os 5610', 1), ('Os 5611', 1), ('Os 6222', 1), ('Os 7318', 1), ('Os 7531', 1), ('Os 7814', 1), ('Os 8966', 1), ('Os 8969', 1), ('SC 100512 - SC PENDOLINO', 1), ('SC 100513 - SC PENDOLINO', 1), ('EC 146 - KYSUCA', 2), ('Ex 531 - HRON', 2), ('R 609 - SPI\u0160AN', 2), ('REx 965 - TOKAJ', 2), ('Os 4622', 2), ('Os 7319', 2), ('EC 105 - SOBIESKI', 3), ('Ex 120 - KO\u0160I\u010cAN', 3), ('EC 272 - AVALA', 3), ('Ex 353 - KAREL \u010cAPEK', 3), ('REx 775', 3), ('IC 1009 - REGIOJET', 3), ('LE 1364 - \u0160V\u00ddCARSK\u00c1 KVALITA', 3), ('Zr 1851 - BLATNICA', 3), ('Os 2027', 3), ('Os 3038', 3), ('Os 5116', 3), ('Os 5701', 3), ('Os 8814', 3), ('EC 110 - PRAHA', 4), ('EC 177 - SLOVENSK\u00c1 STRELA', 4), ('R 610 - AUPARK', 4), ('R 611 - POVA\u017dAN', 4), ('LE 1360 - \u0160V\u00ddCARSK\u00c1 KVALITA', 4), ('Os 2418', 4), ('Os 3039', 4), ('Os 4324', 4), ('Os 4326', 4), ('Os 4674', 4), ('EC 274 - JAROSLAV HA\u0160EK', 5), ('R 815 - DOMICA', 5), ('Os 4325', 5), ('Os 8816', 5), ('R 834 - URP\u00cdN', 6), ('REx 910 - ONDAVA', 6), ('SC 100507 - SC PENDOLINO', 6), ('EC 102 - POLONIA', 7), ('Os 4619', 7), ('R 701 - INOVEC', 8), ('Os 2608', 8), ('Os 4569', 8), ('Os 5808', 8), ('EC 171 - HUNGARIA', 9), ('Os 4821', 9), ('Os 5003', 9), ('Os 8809', 9), ('Os 9418', 9), ('Os 9419', 9), ('IC 1007 - REGIOJET', 10), ('Os 8024', 10), ('EC 149 - LEO\u0160 JAN\u00c1\u010cEK', 12), ('Os 4915', 13), ('Os 9414', 13), ('Os 2057', 14), ('Os 5806', 14), ('EC 144 - LANDEK', 15), ('R 813 - SITNO', 15), ('R 607 - LIPTOV', 17), ('EC 170 - HUNGARIA', 18), ('Os 8813', 20), ('Os 5736', 23), ('EC 276 - SLOVAN', 25), ('Os 4672', 68)]\n"
       ]
      }
     ],
     "prompt_number": 8
    },
    {
     "cell_type": "code",
     "collapsed": false,
     "input": [],
     "language": "python",
     "metadata": {},
     "outputs": []
    }
   ],
   "metadata": {}
  }
 ]
}